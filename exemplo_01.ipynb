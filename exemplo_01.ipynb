{
  "nbformat": 4,
  "nbformat_minor": 0,
  "metadata": {
    "colab": {
      "name": "exemplo_01.ipynb",
      "provenance": [],
      "authorship_tag": "ABX9TyMtJSKNSRF6vJoK+K4XgWEw",
      "include_colab_link": true
    },
    "kernelspec": {
      "name": "python3",
      "display_name": "Python 3"
    }
  },
  "cells": [
    {
      "cell_type": "markdown",
      "metadata": {
        "id": "view-in-github",
        "colab_type": "text"
      },
      "source": [
        "<a href=\"https://colab.research.google.com/github/mirthyrzeo/superzeo/blob/master/exemplo_01.ipynb\" target=\"_parent\"><img src=\"https://colab.research.google.com/assets/colab-badge.svg\" alt=\"Open In Colab\"/></a>"
      ]
    },
    {
      "cell_type": "code",
      "metadata": {
        "id": "MooTJJegw5x9",
        "colab_type": "code",
        "colab": {
          "base_uri": "https://localhost:8080/",
          "height": 68
        },
        "outputId": "5cc3b597-eac5-4a53-8fb1-ab4c101a78d5"
      },
      "source": [
        "### isto é um comando de saída\n",
        "print('Olá Mundo Cruel!!!')\n",
        "print('Cruel World!!!')\n",
        "print(\"'Com áspas duplas'\")\n",
        "\n",
        "# A hastag é um comentário no códiogo, ou seja, o programa nao irá processar nenhuma linha que estiver marcada.\n",
        "# O comando print() mostra na tela, ou seja, é uma saída de valor(es). O conteúdo texto deve estar entre áspas (simples ou dupla)\n"
      ],
      "execution_count": 3,
      "outputs": [
        {
          "output_type": "stream",
          "text": [
            "Olá Mundo Cruel!!!\n",
            "Cruel World!!!\n",
            "'Com áspas duplas'\n"
          ],
          "name": "stdout"
        }
      ]
    },
    {
      "cell_type": "markdown",
      "metadata": {
        "id": "ONgTZaBi4isI",
        "colab_type": "text"
      },
      "source": [
        "Está é uma célula somente de texto.\n",
        "Aqui posso fazer formatações usando as ferramentas que estão na barra. Por exemplo: **Isto está em negrito**, *Isto está em itálico*"
      ]
    },
    {
      "cell_type": "markdown",
      "metadata": {
        "id": "QsEJLBgj5D1N",
        "colab_type": "text"
      },
      "source": [
        "Abaixo, vamos ver como mesclar uma saída de tela"
      ]
    },
    {
      "cell_type": "code",
      "metadata": {
        "id": "SvGNel7r5JKC",
        "colab_type": "code",
        "colab": {
          "base_uri": "https://localhost:8080/",
          "height": 34
        },
        "outputId": "a70b3aee-484c-43ab-8fb9-8ecfe2656704"
      },
      "source": [
        "print('William', 'de', 'Castro', 'Torres')"
      ],
      "execution_count": 4,
      "outputs": [
        {
          "output_type": "stream",
          "text": [
            "William De Castro Torres\n"
          ],
          "name": "stdout"
        }
      ]
    }
  ]
}